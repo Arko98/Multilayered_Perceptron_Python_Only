{
 "cells": [
  {
   "cell_type": "code",
   "execution_count": 1,
   "metadata": {},
   "outputs": [
    {
     "name": "stderr",
     "output_type": "stream",
     "text": [
      "/home/arko/anaconda3/lib/python3.6/site-packages/h5py/__init__.py:36: FutureWarning: Conversion of the second argument of issubdtype from `float` to `np.floating` is deprecated. In future, it will be treated as `np.float64 == np.dtype(float).type`.\n",
      "  from ._conv import register_converters as _register_converters\n",
      "Using TensorFlow backend.\n"
     ]
    }
   ],
   "source": [
    "import numpy as np\n",
    "import MLP_v5\n",
    "from sklearn.model_selection import train_test_split\n",
    "from keras.utils import to_categorical"
   ]
  },
  {
   "cell_type": "code",
   "execution_count": 2,
   "metadata": {},
   "outputs": [
    {
     "name": "stdout",
     "output_type": "stream",
     "text": [
      "Train images shape = (614, 8)\n",
      "Train labels shape = (614, 2)\n",
      "Test images shape = (154, 8)\n",
      "Test images shape = (154, 2)\n"
     ]
    }
   ],
   "source": [
    "data = np.genfromtxt('PIMA_Indian.csv', delimiter = ',')\n",
    "features = np.zeros((768,8), dtype = np.float32)\n",
    "labels = np.zeros((768,1), dtype = np.float32)\n",
    "for i in range(768):\n",
    "    for j in range(8):\n",
    "        features[i][j] = data[i][j]\n",
    "for i in range(768):\n",
    "    labels[i] = data[i][8]\n",
    "labels = to_categorical(labels, num_classes = 2)\n",
    "train_x, test_x, train_y, test_y = train_test_split(features, labels, test_size = 0.2, random_state = 42)\n",
    "print('Train images shape = '+str(train_x.shape))\n",
    "print('Train labels shape = '+str(train_y.shape))\n",
    "print('Test images shape = '+str(test_x.shape))\n",
    "print('Test images shape = '+str(test_y.shape))"
   ]
  },
  {
   "cell_type": "code",
   "execution_count": 4,
   "metadata": {},
   "outputs": [
    {
     "name": "stdout",
     "output_type": "stream",
     "text": [
      "Epoch:: 100, Loss = 0.21414863158427908, Accuracy = 65.96091205211727 %\n",
      "Epoch:: 200, Loss = 0.2086265709340624, Accuracy = 65.96091205211727 %\n",
      "Epoch:: 300, Loss = 0.2067608745725292, Accuracy = 65.96091205211727 %\n",
      "Epoch:: 400, Loss = 0.20445777220164166, Accuracy = 66.12377850162868 %\n",
      "Epoch:: 500, Loss = 0.20292366917216711, Accuracy = 65.96091205211727 %\n",
      "Epoch:: 600, Loss = 0.20185484076333493, Accuracy = 68.72964169381109 %\n",
      "Epoch:: 700, Loss = 0.20047721267724555, Accuracy = 69.21824104234527 %\n",
      "Epoch:: 800, Loss = 0.19926467429257955, Accuracy = 69.54397394136808 %\n",
      "Epoch:: 900, Loss = 0.19839671070256082, Accuracy = 69.86970684039088 %\n",
      "Epoch:: 1000, Loss = 0.19810681093765778, Accuracy = 69.70684039087948 %\n",
      "Epoch:: 1100, Loss = 0.19730944611280257, Accuracy = 69.70684039087948 %\n",
      "Epoch:: 1200, Loss = 0.19655700511736254, Accuracy = 69.70684039087948 %\n",
      "Epoch:: 1300, Loss = 0.19591089053323632, Accuracy = 69.70684039087948 %\n",
      "Epoch:: 1400, Loss = 0.19537359670774027, Accuracy = 69.54397394136808 %\n",
      "Epoch:: 1500, Loss = 0.19493349515591232, Accuracy = 69.54397394136808 %\n",
      "Epoch:: 1600, Loss = 0.19455221913829102, Accuracy = 69.54397394136808 %\n",
      "Epoch:: 1700, Loss = 0.1942095759701297, Accuracy = 69.54397394136808 %\n",
      "Epoch:: 1800, Loss = 0.19389640301245284, Accuracy = 69.70684039087948 %\n",
      "Epoch:: 1900, Loss = 0.19360737083447355, Accuracy = 69.86970684039088 %\n",
      "Epoch:: 2000, Loss = 0.19333855670879802, Accuracy = 69.86970684039088 %\n",
      "Epoch:: 2100, Loss = 0.19308693577676989, Accuracy = 69.86970684039088 %\n",
      "Epoch:: 2200, Loss = 0.1928503208052998, Accuracy = 69.86970684039088 %\n",
      "Epoch:: 2300, Loss = 0.19262721002769065, Accuracy = 69.86970684039088 %\n",
      "Epoch:: 2400, Loss = 0.19241654566107236, Accuracy = 69.86970684039088 %\n",
      "Epoch:: 2500, Loss = 0.19221750694500966, Accuracy = 69.86970684039088 %\n",
      "Epoch:: 2600, Loss = 0.1920293837483778, Accuracy = 70.03257328990227 %\n",
      "Epoch:: 2700, Loss = 0.19185151545205273, Accuracy = 70.03257328990227 %\n",
      "Epoch:: 2800, Loss = 0.19168326795288873, Accuracy = 70.03257328990227 %\n",
      "Epoch:: 2900, Loss = 0.19152402895670473, Accuracy = 70.03257328990227 %\n",
      "Epoch:: 3000, Loss = 0.1913732103085294, Accuracy = 70.03257328990227 %\n",
      "Epoch:: 3100, Loss = 0.19123025182638567, Accuracy = 70.19543973941367 %\n",
      "Epoch:: 3200, Loss = 0.1910946243025889, Accuracy = 70.84690553745928 %\n",
      "Epoch:: 3300, Loss = 0.19096583093820646, Accuracy = 70.84690553745928 %\n",
      "Epoch:: 3400, Loss = 0.19084340715227582, Accuracy = 71.00977198697068 %\n",
      "Epoch:: 3500, Loss = 0.19072691882986362, Accuracy = 71.17263843648209 %\n",
      "Epoch:: 3600, Loss = 0.19061595873907197, Accuracy = 71.17263843648209 %\n",
      "Epoch:: 3700, Loss = 0.19051013968240213, Accuracy = 71.00977198697068 %\n",
      "Epoch:: 3800, Loss = 0.19040907886206349, Accuracy = 71.17263843648209 %\n",
      "Epoch:: 3900, Loss = 0.1903123487303658, Accuracy = 71.17263843648209 %\n",
      "Epoch:: 4000, Loss = 0.19021922078827067, Accuracy = 71.17263843648209 %\n",
      "Epoch:: 4100, Loss = 0.1901225244296044, Accuracy = 71.33550488599349 %\n",
      "Epoch:: 4200, Loss = 0.1899464359412448, Accuracy = 71.49837133550488 %\n",
      "Epoch:: 4300, Loss = 0.18985727797546068, Accuracy = 71.33550488599349 %\n",
      "Epoch:: 4400, Loss = 0.18977411249691703, Accuracy = 71.33550488599349 %\n",
      "Epoch:: 4500, Loss = 0.189557163845822, Accuracy = 71.49837133550488 %\n",
      "Epoch:: 4600, Loss = 0.18943482064083586, Accuracy = 71.66123778501628 %\n",
      "Epoch:: 4700, Loss = 0.189357013071987, Accuracy = 71.66123778501628 %\n",
      "Epoch:: 4800, Loss = 0.18928241380459807, Accuracy = 71.66123778501628 %\n",
      "Epoch:: 4900, Loss = 0.1892103272240026, Accuracy = 71.49837133550488 %\n",
      "Epoch:: 5000, Loss = 0.18914070608494002, Accuracy = 71.49837133550488 %\n",
      "Epoch:: 5100, Loss = 0.18907346059766741, Accuracy = 71.49837133550488 %\n",
      "Epoch:: 5200, Loss = 0.189008483906664, Accuracy = 71.49837133550488 %\n",
      "Epoch:: 5300, Loss = 0.18894566863229242, Accuracy = 71.49837133550488 %\n",
      "Epoch:: 5400, Loss = 0.1888849126714492, Accuracy = 71.49837133550488 %\n",
      "Epoch:: 5500, Loss = 0.18882612080540565, Accuracy = 71.49837133550488 %\n",
      "Epoch:: 5600, Loss = 0.1887692048468252, Accuracy = 71.49837133550488 %\n",
      "Epoch:: 5700, Loss = 0.18871408328203482, Accuracy = 71.49837133550488 %\n",
      "Epoch:: 5800, Loss = 0.18866068072775818, Accuracy = 71.49837133550488 %\n",
      "Epoch:: 5900, Loss = 0.18860892731266657, Accuracy = 71.49837133550488 %\n",
      "Epoch:: 6000, Loss = 0.18855875803213812, Accuracy = 71.49837133550488 %\n",
      "Epoch:: 6100, Loss = 0.18851011210888097, Accuracy = 71.49837133550488 %\n",
      "Epoch:: 6200, Loss = 0.18846293238748665, Accuracy = 71.49837133550488 %\n",
      "Epoch:: 6300, Loss = 0.18841716478635684, Accuracy = 71.49837133550488 %\n",
      "Epoch:: 6400, Loss = 0.18837275782352939, Accuracy = 71.49837133550488 %\n",
      "Epoch:: 6500, Loss = 0.18832966222465097, Accuracy = 71.49837133550488 %\n",
      "Epoch:: 6600, Loss = 0.18828783061332857, Accuracy = 71.49837133550488 %\n",
      "Epoch:: 6700, Loss = 0.18824721727762053, Accuracy = 71.49837133550488 %\n",
      "Epoch:: 6800, Loss = 0.18820777800212238, Accuracy = 71.49837133550488 %\n",
      "Epoch:: 6900, Loss = 0.1881694699529744, Accuracy = 71.49837133550488 %\n",
      "Epoch:: 7000, Loss = 0.188132251602786, Accuracy = 71.49837133550488 %\n",
      "Epoch:: 7100, Loss = 0.18809608268338773, Accuracy = 71.49837133550488 %\n",
      "Epoch:: 7200, Loss = 0.1880609241559396, Accuracy = 71.49837133550488 %\n",
      "Epoch:: 7300, Loss = 0.1880267381897702, Accuracy = 71.49837133550488 %\n",
      "Epoch:: 7400, Loss = 0.18799348814307146, Accuracy = 71.49837133550488 %\n",
      "Epoch:: 7500, Loss = 0.1879611385399752, Accuracy = 71.49837133550488 %\n",
      "Epoch:: 7600, Loss = 0.18792965503942924, Accuracy = 71.49837133550488 %\n",
      "Epoch:: 7700, Loss = 0.18789900439150894, Accuracy = 71.49837133550488 %\n",
      "Epoch:: 7800, Loss = 0.18786915437612464, Accuracy = 71.49837133550488 %\n",
      "Epoch:: 7900, Loss = 0.18784007371709938, Accuracy = 71.49837133550488 %\n",
      "Epoch:: 8000, Loss = 0.18781173196049966, Accuracy = 71.49837133550488 %\n",
      "Epoch:: 8100, Loss = 0.18778409929824227, Accuracy = 71.49837133550488 %\n",
      "Epoch:: 8200, Loss = 0.18775714630287282, Accuracy = 71.49837133550488 %\n",
      "Epoch:: 8300, Loss = 0.18773084350920602, Accuracy = 71.49837133550488 %\n",
      "Epoch:: 8400, Loss = 0.18770516071473842, Accuracy = 71.49837133550488 %\n",
      "Epoch:: 8500, Loss = 0.18768006572596924, Accuracy = 71.49837133550488 %\n",
      "Epoch:: 8600, Loss = 0.18765552191798243, Accuracy = 71.49837133550488 %\n",
      "Epoch:: 8700, Loss = 0.18763148297145232, Accuracy = 71.49837133550488 %\n",
      "Epoch:: 8800, Loss = 0.18760787989580088, Accuracy = 71.49837133550488 %\n",
      "Epoch:: 8900, Loss = 0.18758458239498352, Accuracy = 71.49837133550488 %\n",
      "Epoch:: 9000, Loss = 0.18756124430951432, Accuracy = 71.49837133550488 %\n",
      "Epoch:: 9100, Loss = 0.18753621726736858, Accuracy = 71.49837133550488 %\n",
      "Epoch:: 9200, Loss = 0.18747783785236596, Accuracy = 71.49837133550488 %\n",
      "Epoch:: 9300, Loss = 0.18741735437407162, Accuracy = 71.49837133550488 %\n",
      "Epoch:: 9400, Loss = 0.1873896839028202, Accuracy = 71.49837133550488 %\n",
      "Epoch:: 9500, Loss = 0.1873659227847844, Accuracy = 71.49837133550488 %\n",
      "Epoch:: 9600, Loss = 0.1873439030139054, Accuracy = 71.49837133550488 %\n",
      "Epoch:: 9700, Loss = 0.18732294083352763, Accuracy = 71.49837133550488 %\n",
      "Epoch:: 9800, Loss = 0.18730271533845658, Accuracy = 71.49837133550488 %\n",
      "Epoch:: 9900, Loss = 0.18728306128126573, Accuracy = 71.49837133550488 %\n",
      "Epoch:: 10000, Loss = 0.18726388925012377, Accuracy = 71.49837133550488 %\n"
     ]
    },
    {
     "data": {
      "image/png": "[encoded data removed]",
      "text/plain": [
       "<matplotlib.figure.Figure at 0x7f8ba717fc88>"
      ]
     },
     "metadata": {
      "needs_background": "light"
     },
     "output_type": "display_data"
    }
   ],
   "source": [
    "_, weights = MLP_v5.Dense(2, train_x, train_y, 10000)"
   ]
  },
  {
   "cell_type": "code",
   "execution_count": 5,
   "metadata": {},
   "outputs": [
    {
     "name": "stdout",
     "output_type": "stream",
     "text": [
      "Actual Labels = \n",
      "[0 0 0 0 0 0 0 0 0 0 1 0 1 0 0 1 0 0 1 1 0 0 0 0 0 1 0 0 1 0 1 1 1 1 0 1 1\n",
      " 1 0 1 0 0 0 1 0 1 1 0 0 0 0 1 1 1 0 0 0 0 0 1 1 0 0 1 0 0 0 1 0 1 0 0 0 1\n",
      " 0 0 0 0 0 0 1 1 0 0 0 1 1 1 0 0 0 0 0 1 0 0 0 0 1 0 0 0 1 0 1 0 0 1 1 1 0\n",
      " 0 0 1 0 0 1 0 0 0 0 0 1 0 0 0 1 1 1 0 1 1 0 1 1 0 1 1 1 0 0 0 0 0 0 0 1 0\n",
      " 0 1 0 0 1 0]\n",
      "Predicted Labels = \n",
      "[1 0 0 0 0 1 0 0 0 0 0 0 1 0 0 1 0 0 0 0 0 0 0 0 1 0 0 0 0 0 0 0 1 1 0 0 1\n",
      " 0 0 1 0 0 0 0 0 0 1 0 0 1 0 1 1 0 0 0 0 0 0 0 0 0 0 1 0 0 0 0 0 0 1 0 0 0\n",
      " 0 0 0 1 0 0 0 0 0 0 0 1 0 0 0 0 0 0 0 0 1 0 0 0 0 0 0 0 0 0 0 0 1 1 0 0 0\n",
      " 0 0 0 0 0 1 0 0 0 0 0 0 0 0 1 0 1 0 0 0 1 0 1 0 0 0 0 1 0 0 0 0 0 0 0 0 0\n",
      " 0 0 0 0 0 0]\n",
      "Test Accuracy = 69.48051948051948 % \n",
      "Misclassified label count = 47\n"
     ]
    }
   ],
   "source": [
    "MLP_v5.evaluate(test_x, test_y, weights)"
   ]
  }
 ],
 "metadata": {
  "kernelspec": {
   "display_name": "Python 3",
   "language": "python",
   "name": "python3"
  },
  "language_info": {
   "codemirror_mode": {
    "name": "ipython",
    "version": 3
   },
   "file_extension": ".py",
   "mimetype": "text/x-python",
   "name": "python",
   "nbconvert_exporter": "python",
   "pygments_lexer": "ipython3",
   "version": "3.6.8"
  }
 },
 "nbformat": 4,
 "nbformat_minor": 2
}
