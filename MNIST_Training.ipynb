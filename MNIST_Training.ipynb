{
 "cells": [
  {
   "cell_type": "code",
   "execution_count": 1,
   "metadata": {},
   "outputs": [
    {
     "name": "stderr",
     "output_type": "stream",
     "text": [
      "/home/arko/anaconda3/lib/python3.6/site-packages/h5py/__init__.py:36: FutureWarning: Conversion of the second argument of issubdtype from `float` to `np.floating` is deprecated. In future, it will be treated as `np.float64 == np.dtype(float).type`.\n",
      "  from ._conv import register_converters as _register_converters\n",
      "Using TensorFlow backend.\n"
     ]
    }
   ],
   "source": [
    "import numpy as np\n",
    "import MLP_v5\n",
    "from sklearn.model_selection import train_test_split\n",
    "from keras.utils import to_categorical\n",
    "from keras.datasets import mnist\n",
    "import keras"
   ]
  },
  {
   "cell_type": "code",
   "execution_count": 10,
   "metadata": {},
   "outputs": [
    {
     "name": "stdout",
     "output_type": "stream",
     "text": [
      "Train images shape = (2000, 784)\n",
      "Train labels shape = (2000, 10)\n",
      "Test images shape = (1000, 784)\n",
      "Test images shape = (1000, 10)\n"
     ]
    }
   ],
   "source": [
    "#Dataset Preprocessing\n",
    "\n",
    "(x_train, y_train), (x_test, y_test) = mnist.load_data()\n",
    "x_train = x_train.reshape(60000,784)/255\n",
    "label = keras.utils.to_categorical(y_train)\n",
    "#Training data\n",
    "train_images = x_train[0:2000,:]                                          \n",
    "train_labels = label[0:2000,:]                                     \n",
    "print('Train images shape = '+str(train_images.shape))\n",
    "print('Train labels shape = '+str(train_labels.shape))\n",
    "#Testing data\n",
    "test_images = x_train[11000:12000,:]                \n",
    "test_labels = label[11000:12000,:]                                            \n",
    "print('Test images shape = '+str(test_images.shape))\n",
    "print('Test images shape = '+str(test_labels.shape))"
   ]
  },
  {
   "cell_type": "code",
   "execution_count": 14,
   "metadata": {},
   "outputs": [
    {
     "name": "stdout",
     "output_type": "stream",
     "text": [
      "Epoch:: 100, Loss = 0.022536964390377875, Accuracy = 94.3 %\n",
      "Epoch:: 200, Loss = 0.013402788254865251, Accuracy = 96.3 %\n",
      "Epoch:: 300, Loss = 0.00953448180434848, Accuracy = 97.35000000000001 %\n",
      "Epoch:: 400, Loss = 0.0073732077776567494, Accuracy = 97.89999999999999 %\n",
      "Epoch:: 500, Loss = 0.006046458891338746, Accuracy = 98.35000000000001 %\n",
      "Epoch:: 600, Loss = 0.0050412428973613315, Accuracy = 98.65 %\n",
      "Epoch:: 700, Loss = 0.004337616946515202, Accuracy = 98.75 %\n"
     ]
    },
    {
     "data": {
      "image/png": "[encoded data removed]",
      "text/plain": [
       "<matplotlib.figure.Figure at 0x7f0c70971ef0>"
      ]
     },
     "metadata": {
      "needs_background": "light"
     },
     "output_type": "display_data"
    }
   ],
   "source": [
    "y_prediction, weights = Dense(10, train_images, train_labels, 700)"
   ]
  },
  {
   "cell_type": "code",
   "execution_count": 15,
   "metadata": {},
   "outputs": [
    {
     "name": "stdout",
     "output_type": "stream",
     "text": [
      "Actual Labels = \n",
      "[6 9 3 0 1 4 2 7 4 4 3 3 3 2 0 9 4 2 2 0 7 3 0 4 4 5 0 0 8 0 2 3 2 2 3 8 0\n",
      " 3 6 3 4 0 3 1 4 0 4 1 6 7 1 1 0 3 7 5 7 1 1 7 0 1 6 8 5 6 2 8 9 1 8 0 0 4\n",
      " 9 3 7 0 9 1 7 2 1 3 2 7 2 8 7 9 9 0 7 1 5 2 9 3 6 7 6 8 9 9 3 0 2 1 8 2 2\n",
      " 3 1 4 3 5 0 6 5 7 8 8 7 9 4 7 4 4 6 0 7 4 6 0 1 1 5 7 3 9 6 5 8 1 4 4 8 2\n",
      " 4 8 9 9 1 4 5 3 1 1 6 7 8 8 0 2 7 4 7 4 7 3 7 3 0 6 6 9 8 9 1 5 7 8 5 6 4\n",
      " 7 9 0 7 6 9 8 9 2 9 6 9 3 5 9 1 3 9 2 7 1 9 7 9 4 8 8 9 8 1 9 3 0 6 3 7 3\n",
      " 0 9 9 9 6 4 1 1 2 0 3 3 3 7 1 5 5 8 0 8 2 2 3 9 9 7 1 1 2 2 9 6 7 4 4 2 8\n",
      " 3 5 6 1 6 4 5 7 0 1 0 5 2 1 8 7 1 9 6 1 1 9 0 6 4 3 3 2 1 8 6 7 1 1 9 7 0\n",
      " 3 1 2 2 9 3 8 4 0 5 2 6 1 7 5 8 1 9 4 0 6 1 0 2 0 3 8 4 5 5 1 6 7 7 0 8 7\n",
      " 9 7 0 6 1 5 2 0 3 1 4 2 5 2 6 6 7 7 8 1 9 0 8 5 6 1 5 1 0 1 6 2 8 9 9 9 4\n",
      " 7 1 7 9 8 5 9 3 4 0 2 4 8 8 2 9 6 1 9 4 6 0 3 5 2 1 5 5 8 7 7 6 5 0 1 1 8\n",
      " 7 4 0 5 6 1 8 4 9 9 5 1 4 2 7 0 9 4 8 7 6 0 0 7 8 1 1 4 7 2 7 2 1 1 3 9 2\n",
      " 8 1 2 4 6 2 8 0 9 0 3 7 5 8 2 4 4 6 0 4 9 9 6 3 4 8 5 4 5 7 9 2 3 5 8 6 3\n",
      " 3 8 6 5 9 5 6 7 3 6 2 5 2 4 4 4 6 7 9 5 0 1 2 1 5 8 5 1 1 7 3 4 3 0 9 7 7\n",
      " 1 2 3 2 1 5 3 7 0 9 7 8 6 2 0 1 7 3 9 1 9 3 7 0 5 1 3 3 8 4 7 5 9 6 2 7 3\n",
      " 8 3 9 1 0 2 1 0 2 7 3 7 4 8 5 3 6 5 7 0 8 2 0 4 1 9 2 9 3 0 4 8 5 0 6 5 7\n",
      " 6 9 7 7 5 0 4 5 2 2 8 9 1 0 1 1 1 5 6 8 0 8 8 0 7 9 3 3 0 2 1 7 4 8 9 4 9\n",
      " 4 1 5 2 9 1 6 0 1 5 0 7 4 7 5 5 3 4 9 2 4 7 3 4 4 0 2 5 0 4 5 7 0 8 1 7 3\n",
      " 1 2 9 9 4 1 8 6 5 0 1 1 6 1 6 8 9 0 6 4 7 7 9 7 4 6 4 3 0 5 5 6 9 6 2 0 1\n",
      " 7 8 3 5 5 3 4 3 2 0 4 3 1 7 8 2 3 8 5 8 6 8 5 8 2 1 0 6 6 9 7 8 1 7 2 2 5\n",
      " 4 8 0 1 4 9 0 3 2 8 8 8 3 8 0 3 3 7 0 6 1 8 9 7 4 1 7 4 7 6 4 7 2 9 2 9 5\n",
      " 3 7 0 0 3 5 4 6 5 7 6 3 7 5 0 0 1 0 2 8 3 7 4 6 5 5 6 3 7 5 0 8 1 7 2 2 3\n",
      " 9 4 9 5 4 6 9 7 7 8 4 9 2 8 6 7 9 7 6 0 0 1 8 3 7 5 9 2 5 8 2 0 0 9 0 6 5\n",
      " 0 4 9 7 1 2 1 8 8 0 4 9 3 5 2 6 1 1 2 6 6 8 5 3 6 5 7 6 4 8 8 5 1 9 8 4 0\n",
      " 0 5 8 9 6 4 7 1 2 9 7 2 9 1 0 9 8 6 9 7 8 9 3 0 9 4 0 6 4 1 9 7 0 3 5 8 9\n",
      " 9 9 6 5 3 4 9 6 0 9 5 5 7 9 1 8 6 8 1 7 0 7 9 0 3 8 3 6 4 1 4 4 0 3 6 3 2\n",
      " 4 5 6 4 5 4 1 0 9 2 6 0 0 1 6 2 3 3 5 4 1 5 8 6 4 7 4 8 9 9 9 0 7 1 6 2 8\n",
      " 3]\n",
      "Predicted Labels = \n",
      "[6 9 3 0 1 4 2 7 4 4 3 3 3 2 0 9 4 2 2 0 7 3 0 4 4 5 0 0 8 0 3 3 2 2 3 8 0\n",
      " 3 2 8 4 6 3 1 4 0 4 1 6 7 1 1 0 3 7 5 7 1 1 7 0 1 6 8 5 6 2 8 4 1 8 0 0 4\n",
      " 3 3 7 0 9 1 7 2 1 3 7 9 2 8 7 9 9 0 7 1 5 2 9 3 6 9 6 8 9 9 8 0 2 1 8 2 2\n",
      " 3 1 4 3 5 0 6 5 7 8 8 7 9 4 7 9 4 6 0 7 9 6 0 1 1 5 7 3 9 6 5 8 1 4 4 8 2\n",
      " 4 8 9 9 1 4 0 3 1 1 6 7 5 8 8 2 7 5 7 9 7 3 7 3 0 2 6 9 8 9 1 5 7 8 5 6 4\n",
      " 7 9 0 7 6 9 8 9 2 9 6 9 3 3 9 1 3 5 2 7 1 9 7 3 4 9 8 9 8 1 9 3 0 6 3 7 3\n",
      " 0 9 9 9 6 9 1 1 2 0 8 3 2 7 1 5 0 4 0 8 1 2 3 9 9 7 1 1 2 2 9 6 7 9 4 2 8\n",
      " 3 5 6 1 6 4 3 7 0 1 0 8 2 1 8 7 1 7 6 1 1 9 0 6 8 7 3 2 1 8 6 7 1 6 9 7 8\n",
      " 3 1 2 2 9 3 3 4 2 5 2 6 1 7 5 8 1 9 4 0 6 1 0 2 0 3 1 4 5 5 1 6 7 7 0 8 7\n",
      " 9 7 0 6 1 5 2 0 3 7 4 2 5 2 6 6 7 7 8 1 9 0 8 3 6 1 5 1 0 1 6 2 8 9 9 9 4\n",
      " 7 1 7 9 2 5 9 3 4 0 2 4 8 8 2 9 6 1 4 4 6 0 3 5 2 1 5 5 5 7 7 6 5 0 1 1 3\n",
      " 7 4 0 5 6 1 8 4 9 9 5 1 4 2 7 0 9 4 8 7 6 0 0 7 8 1 1 4 7 2 7 6 1 1 6 7 2\n",
      " 8 1 2 4 6 2 8 0 9 0 3 9 5 8 2 4 4 6 0 4 9 9 6 3 4 8 7 4 5 7 9 2 3 5 8 6 3\n",
      " 3 0 6 5 9 5 6 9 5 6 2 5 2 4 4 4 6 7 9 4 8 2 2 1 5 8 5 1 1 9 3 4 8 0 9 7 9\n",
      " 1 2 3 2 1 5 3 7 0 9 7 8 6 2 0 1 4 3 9 1 9 8 7 0 5 1 3 2 8 4 7 5 9 6 2 7 3\n",
      " 8 3 9 1 0 2 1 0 2 7 2 7 4 8 2 7 6 7 7 0 8 1 0 2 1 9 6 9 2 0 4 0 5 0 6 5 7\n",
      " 8 9 7 7 5 0 4 5 4 6 8 9 1 0 1 1 1 5 8 8 0 1 5 0 7 9 3 2 0 6 1 7 4 8 9 4 9\n",
      " 4 1 5 6 9 1 6 0 1 5 2 7 4 7 5 7 2 4 4 3 4 7 3 4 9 0 2 5 9 4 5 7 0 8 1 7 3\n",
      " 1 6 9 9 4 1 8 6 5 6 1 1 6 1 6 8 9 0 2 4 7 7 9 7 4 6 4 2 0 5 0 6 9 6 2 0 4\n",
      " 7 8 2 5 5 8 4 3 6 0 4 3 1 7 8 2 2 9 5 8 6 8 5 8 2 1 0 6 6 9 7 2 1 7 6 8 5\n",
      " 4 8 0 1 4 7 0 2 2 1 8 8 3 8 0 3 3 7 0 1 1 8 7 7 4 1 7 1 7 6 4 7 2 9 2 9 5\n",
      " 3 7 0 0 8 5 4 8 5 7 6 3 7 9 0 0 1 0 2 5 3 7 4 6 5 5 6 3 7 5 0 8 1 7 2 2 3\n",
      " 9 4 9 5 4 6 9 7 9 8 4 9 2 8 6 7 9 7 6 0 0 1 8 3 7 5 9 2 7 9 2 0 0 9 0 6 5\n",
      " 0 4 5 7 1 2 1 3 8 0 4 9 3 3 2 6 1 1 2 5 6 8 5 3 6 5 7 6 4 1 8 5 1 9 7 9 0\n",
      " 0 5 8 9 6 4 7 1 2 9 7 2 9 1 0 9 5 6 9 7 8 9 3 0 9 4 0 6 4 1 9 7 0 3 5 8 9\n",
      " 9 9 6 5 3 4 9 6 0 9 5 5 7 9 1 8 6 8 1 7 0 7 9 0 8 8 8 6 6 1 4 4 0 3 6 3 2\n",
      " 4 5 6 4 5 6 1 0 9 2 6 0 0 1 6 2 3 3 5 4 1 5 9 6 9 7 4 8 7 9 7 0 7 1 6 2 8\n",
      " 3]\n",
      "Test Accuracy = 87.0 % \n",
      "Misclassified label count = 130\n"
     ]
    }
   ],
   "source": [
    "MLP_v5.valuate(test_images, test_labels, weights)"
   ]
  }
 ],
 "metadata": {
  "kernelspec": {
   "display_name": "Python 3",
   "language": "python",
   "name": "python3"
  },
  "language_info": {
   "codemirror_mode": {
    "name": "ipython",
    "version": 3
   },
   "file_extension": ".py",
   "mimetype": "text/x-python",
   "name": "python",
   "nbconvert_exporter": "python",
   "pygments_lexer": "ipython3",
   "version": "3.6.8"
  }
 },
 "nbformat": 4,
 "nbformat_minor": 2
}
